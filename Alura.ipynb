{
  "nbformat": 4,
  "nbformat_minor": 0,
  "metadata": {
    "colab": {
      "provenance": [],
      "authorship_tag": "ABX9TyPmZjj7/D2TkbFff+vYwzD7",
      "include_colab_link": true
    },
    "kernelspec": {
      "name": "python3",
      "display_name": "Python 3"
    },
    "language_info": {
      "name": "python"
    }
  },
  "cells": [
    {
      "cell_type": "markdown",
      "metadata": {
        "id": "view-in-github",
        "colab_type": "text"
      },
      "source": [
        "<a href=\"https://colab.research.google.com/github/JHenrique92/ChatBot_Alura/blob/main/Alura.ipynb\" target=\"_parent\"><img src=\"https://colab.research.google.com/assets/colab-badge.svg\" alt=\"Open In Colab\"/></a>"
      ]
    },
    {
      "cell_type": "code",
      "execution_count": null,
      "metadata": {
        "id": "DzlDrd_cBl7d"
      },
      "outputs": [],
      "source": [
        "!pip install -q -U google-generativeai"
      ]
    },
    {
      "cell_type": "code",
      "source": [
        "# Import the Python SDK\n",
        "import google.generativeai as genai\n",
        "from google.colab import userdata\n",
        "api_key = userdata.get('SECRET_KEY')\n",
        "genai.configure(api_key=api_key)\n",
        "\n"
      ],
      "metadata": {
        "id": "19kR7YNiB-Bl"
      },
      "execution_count": 17,
      "outputs": []
    },
    {
      "cell_type": "markdown",
      "source": [
        "\n",
        "\n",
        "```\n",
        "# Isto está formatado como código\n",
        "```\n",
        "\n",
        "Lista de modulos(modelos)\n"
      ],
      "metadata": {
        "id": "-EAK3GklCWxH"
      }
    },
    {
      "cell_type": "code",
      "source": [
        "for m in genai.list_models():\n",
        "  if 'generateContent' in m.supported_generation_methods:\n",
        "    print(m.name)\n",
        "\n"
      ],
      "metadata": {
        "colab": {
          "base_uri": "https://localhost:8080/",
          "height": 146
        },
        "id": "PxPljz8MCZ5e",
        "outputId": "922821c4-5641-4de7-adfc-1d3668dccc9c"
      },
      "execution_count": null,
      "outputs": [
        {
          "output_type": "stream",
          "name": "stdout",
          "text": [
            "models/gemini-1.0-pro\n",
            "models/gemini-1.0-pro-001\n",
            "models/gemini-1.0-pro-latest\n",
            "models/gemini-1.0-pro-vision-latest\n",
            "models/gemini-1.5-pro-latest\n",
            "models/gemini-pro\n",
            "models/gemini-pro-vision\n"
          ]
        }
      ]
    },
    {
      "cell_type": "code",
      "source": [
        "generation_config = {\n",
        "    \"candidate_count\": 1,\n",
        "    \"temperature\": 0.5\n",
        "}"
      ],
      "metadata": {
        "id": "VJ0nq2i2zJdr"
      },
      "execution_count": null,
      "outputs": []
    },
    {
      "cell_type": "code",
      "source": [
        "safety_settings ={\n",
        "    \"HARASSMENT\": \"BLOCK_NONE\",\n",
        "    \"HATE\": \"BLOCK_NONE\",\n",
        "    \"SEXUAL\": \"BLOCK_NONE\",\n",
        "    \"DANGEROUS\": \"BLOCK_NONE\",\n",
        "}"
      ],
      "metadata": {
        "id": "iBQw31Db1O7F"
      },
      "execution_count": null,
      "outputs": []
    },
    {
      "cell_type": "markdown",
      "source": [
        "inicializando modelo"
      ],
      "metadata": {
        "id": "AndZ7dX83mCM"
      }
    },
    {
      "cell_type": "code",
      "source": [
        "model = genai.GenerativeModel(model_name=\"gemini-1.0-pro\",\n",
        "                              generation_config=generation_config,\n",
        "                              safety_settings=safety_settings\n",
        "                              )"
      ],
      "metadata": {
        "id": "hYAfh8Bd3tDj"
      },
      "execution_count": null,
      "outputs": []
    },
    {
      "cell_type": "code",
      "source": [
        "response = model.generate_content(\"Vamos aprender sobre IA. Me dê sugestões!\")\n",
        "print(response.text)"
      ],
      "metadata": {
        "colab": {
          "base_uri": "https://localhost:8080/",
          "height": 867
        },
        "id": "WcQNFeWX63Nc",
        "outputId": "5393fb80-3f5d-48cd-c65e-2fa47b5abece"
      },
      "execution_count": null,
      "outputs": [
        {
          "output_type": "stream",
          "name": "stdout",
          "text": [
            "**Livros:**\n",
            "\n",
            "* Inteligência Artificial: Uma Abordagem Moderna (Stuart Russell e Peter Norvig)\n",
            "* Aprendizado de Máquina (Tom Mitchell)\n",
            "* Aprendizado Profundo (Ian Goodfellow, Yoshua Bengio e Aaron Courville)\n",
            "* Inteligência Artificial: Um Guia Prático (Margaret Mitchell)\n",
            "* Inteligência Artificial para Todos (Andrew Ng)\n",
            "\n",
            "**Cursos Online:**\n",
            "\n",
            "* **Coursera:**\n",
            "    * Aprendizado de Máquina (Universidade de Stanford)\n",
            "    * Inteligência Artificial (Universidade de Helsinque)\n",
            "    * Introdução à Inteligência Artificial (Georgia Tech)\n",
            "* **edX:**\n",
            "    * Ciência de Dados e Aprendizado de Máquina (MIT)\n",
            "    * Inteligência Artificial (Universidade de Washington)\n",
            "    * Aprendizado Profundo (Universidade de Michigan)\n",
            "* **Udemy:**\n",
            "    * Curso Completo de Inteligência Artificial\n",
            "    * Aprendizado de Máquina e Inteligência Artificial\n",
            "    * Inteligência Artificial para Iniciantes\n",
            "\n",
            "**Recursos Online:**\n",
            "\n",
            "* **OpenAI:** https://openai.com/\n",
            "* **Google AI:** https://ai.google/\n",
            "* **DeepMind:** https://deepmind.com/\n",
            "* **MIT CSAIL:** https://www.csail.mit.edu/\n",
            "* **Stanford AI Lab:** https://ai.stanford.edu/\n",
            "\n",
            "**Comunidades e Fóruns:**\n",
            "\n",
            "* **Reddit:** r/artificialintelligence, r/machinelearning\n",
            "* **Stack Overflow:** https://stackoverflow.com/questions/tagged/artificial-intelligence\n",
            "* **Kaggle:** https://www.kaggle.com/\n",
            "* **GitHub:** https://github.com/topics/artificial-intelligence\n",
            "\n",
            "**Eventos:**\n",
            "\n",
            "* **Conferência Internacional Conjunta sobre Inteligência Artificial (IJCAI)**\n",
            "* **Conferência sobre Sistemas de Processamento de Informação Neural (NeurIPS)**\n",
            "* **Conferência Internacional sobre Aprendizado de Máquina (ICML)**\n",
            "* **Conferência Internacional sobre Visão Computacional (ICCV)**\n",
            "* **Conferência Internacional sobre Processamento de Linguagem Natural (ACL)**\n"
          ]
        }
      ]
    },
    {
      "cell_type": "code",
      "source": [
        "chat = model.start_chat(history=[])"
      ],
      "metadata": {
        "id": "uTpokAWn7RtQ"
      },
      "execution_count": null,
      "outputs": []
    },
    {
      "cell_type": "code",
      "source": [
        "prompt = input(\"Esperando prompt: \")\n",
        "while prompt != \"fim\":\n",
        "  response = chat.send_message(prompt)\n",
        "  print(\"resposta: \", response.text, \"\\n\")\n",
        "  prompt = input(\"Esperando prompt: \")\n"
      ],
      "metadata": {
        "colab": {
          "base_uri": "https://localhost:8080/",
          "height": 794
        },
        "id": "i-Sq91GA7qJw",
        "outputId": "32465ba9-f103-442a-e3a7-0abf53a9280e"
      },
      "execution_count": null,
      "outputs": [
        {
          "name": "stdout",
          "output_type": "stream",
          "text": [
            "Esperando prompt: qual a capital do japão?\n",
            "resposta:  Tóquio \n",
            "\n",
            "Esperando prompt: qual o melhor anime japones?\n",
            "resposta:  A escolha do melhor anime japonês é subjetiva e depende das preferências pessoais. No entanto, alguns dos animes mais populares e aclamados pela crítica incluem:\n",
            "\n",
            "* **One Piece**\n",
            "* **Naruto**\n",
            "* **Dragon Ball Z**\n",
            "* **Fullmetal Alchemist: Brotherhood**\n",
            "* **Attack on Titan**\n",
            "* **Death Note**\n",
            "* **Cowboy Bebop**\n",
            "* **Spirited Away**\n",
            "* **Neon Genesis Evangelion**\n",
            "* **My Hero Academia**\n",
            "* **Demon Slayer: Kimetsu no Yaiba**\n",
            "* **Jujutsu Kaisen**\n",
            "* **Haikyuu!!**\n",
            "* **Hunter x Hunter** \n",
            "\n",
            "Esperando prompt: Goku é personagem de qual anime\n",
            "resposta:  Dragon Ball\n",
            "\n",
            "Goku é o principal protagonista da franquia de anime e mangá Dragon Ball, criada por Akira Toriyama. Ele é um guerreiro Saiyajin que foi enviado à Terra quando criança para conquistá-la, mas acabou se tornando um dos seus maiores defensores. Goku é conhecido por sua força, coragem e determinação, e é frequentemente considerado um dos personagens de anime mais icônicos de todos os tempos. \n",
            "\n",
            "Esperando prompt: luff é personagem de qaul anime\n",
            "resposta:  One Piece\n",
            "\n",
            "Luffy é o principal protagonista da série de anime e mangá One Piece, criada por Eiichiro Oda. Ele é um jovem pirata que sonha em se tornar o Rei dos Piratas. Luffy é conhecido por sua personalidade alegre e otimista, bem como por sua força e determinação. Ele é o capitão dos Piratas do Chapéu de Palha, uma tripulação de piratas que viaja pelo Grand Line em busca do tesouro lendário conhecido como One Piece. \n",
            "\n",
            "Esperando prompt: yugioh é um anime japones?\n",
            "resposta:  Sim, Yu-Gi-Oh! é um anime japonês.\n",
            "\n",
            "A franquia Yu-Gi-Oh! foi criada por Kazuki Takahashi e começou como uma série de mangá publicada na revista Weekly Shōnen Jump em 1996. O anime foi adaptado do mangá e começou a ser exibido no Japão em 1998.\n",
            "\n",
            "Yu-Gi-Oh! é uma série de anime popular que gira em torno do jogo de cartas colecionáveis ​​de mesmo nome. O protagonista da série, Yugi Mutou, é um jovem que resolve um antigo artefato egípcio conhecido como Enigma do Milênio. Isso desperta um espírito antigo dentro dele, que o ajuda a se tornar um Duelista de Monstros, um jogador do jogo de cartas colecionáveis.\n",
            "\n",
            "Yu-Gi-Oh! tem sido uma franquia de sucesso no Japão e em todo o mundo, gerando vários animes, filmes, videogames e produtos. \n",
            "\n",
            "Esperando prompt: fim\n"
          ]
        }
      ]
    },
    {
      "cell_type": "code",
      "source": [
        "chat.history\n"
      ],
      "metadata": {
        "colab": {
          "base_uri": "https://localhost:8080/"
        },
        "id": "Zk7da4Sc-ixP",
        "outputId": "fd40865d-764e-41dc-853a-2a3887f256c9"
      },
      "execution_count": null,
      "outputs": [
        {
          "output_type": "execute_result",
          "data": {
            "text/plain": [
              "[parts {\n",
              "   text: \"qual a capital do jap\\303\\243o?\"\n",
              " }\n",
              " role: \"user\",\n",
              " parts {\n",
              "   text: \"T\\303\\263quio\"\n",
              " }\n",
              " role: \"model\",\n",
              " parts {\n",
              "   text: \"qual o melhor anime japones?\"\n",
              " }\n",
              " role: \"user\",\n",
              " parts {\n",
              "   text: \"A escolha do melhor anime japon\\303\\252s \\303\\251 subjetiva e depende das prefer\\303\\252ncias pessoais. No entanto, alguns dos animes mais populares e aclamados pela cr\\303\\255tica incluem:\\n\\n* **One Piece**\\n* **Naruto**\\n* **Dragon Ball Z**\\n* **Fullmetal Alchemist: Brotherhood**\\n* **Attack on Titan**\\n* **Death Note**\\n* **Cowboy Bebop**\\n* **Spirited Away**\\n* **Neon Genesis Evangelion**\\n* **My Hero Academia**\\n* **Demon Slayer: Kimetsu no Yaiba**\\n* **Jujutsu Kaisen**\\n* **Haikyuu!!**\\n* **Hunter x Hunter**\"\n",
              " }\n",
              " role: \"model\",\n",
              " parts {\n",
              "   text: \"Goku \\303\\251 personagem de qual anime\"\n",
              " }\n",
              " role: \"user\",\n",
              " parts {\n",
              "   text: \"Dragon Ball\\n\\nGoku \\303\\251 o principal protagonista da franquia de anime e mang\\303\\241 Dragon Ball, criada por Akira Toriyama. Ele \\303\\251 um guerreiro Saiyajin que foi enviado \\303\\240 Terra quando crian\\303\\247a para conquist\\303\\241-la, mas acabou se tornando um dos seus maiores defensores. Goku \\303\\251 conhecido por sua for\\303\\247a, coragem e determina\\303\\247\\303\\243o, e \\303\\251 frequentemente considerado um dos personagens de anime mais ic\\303\\264nicos de todos os tempos.\"\n",
              " }\n",
              " role: \"model\",\n",
              " parts {\n",
              "   text: \"luff \\303\\251 personagem de qaul anime\"\n",
              " }\n",
              " role: \"user\",\n",
              " parts {\n",
              "   text: \"One Piece\\n\\nLuffy \\303\\251 o principal protagonista da s\\303\\251rie de anime e mang\\303\\241 One Piece, criada por Eiichiro Oda. Ele \\303\\251 um jovem pirata que sonha em se tornar o Rei dos Piratas. Luffy \\303\\251 conhecido por sua personalidade alegre e otimista, bem como por sua for\\303\\247a e determina\\303\\247\\303\\243o. Ele \\303\\251 o capit\\303\\243o dos Piratas do Chap\\303\\251u de Palha, uma tripula\\303\\247\\303\\243o de piratas que viaja pelo Grand Line em busca do tesouro lend\\303\\241rio conhecido como One Piece.\"\n",
              " }\n",
              " role: \"model\",\n",
              " parts {\n",
              "   text: \"yugioh \\303\\251 um anime japones?\"\n",
              " }\n",
              " role: \"user\",\n",
              " parts {\n",
              "   text: \"Sim, Yu-Gi-Oh! \\303\\251 um anime japon\\303\\252s.\\n\\nA franquia Yu-Gi-Oh! foi criada por Kazuki Takahashi e come\\303\\247ou como uma s\\303\\251rie de mang\\303\\241 publicada na revista Weekly Sh\\305\\215nen Jump em 1996. O anime foi adaptado do mang\\303\\241 e come\\303\\247ou a ser exibido no Jap\\303\\243o em 1998.\\n\\nYu-Gi-Oh! \\303\\251 uma s\\303\\251rie de anime popular que gira em torno do jogo de cartas colecion\\303\\241veis \\342\\200\\213\\342\\200\\213de mesmo nome. O protagonista da s\\303\\251rie, Yugi Mutou, \\303\\251 um jovem que resolve um antigo artefato eg\\303\\255pcio conhecido como Enigma do Mil\\303\\252nio. Isso desperta um esp\\303\\255rito antigo dentro dele, que o ajuda a se tornar um Duelista de Monstros, um jogador do jogo de cartas colecion\\303\\241veis.\\n\\nYu-Gi-Oh! tem sido uma franquia de sucesso no Jap\\303\\243o e em todo o mundo, gerando v\\303\\241rios animes, filmes, videogames e produtos.\"\n",
              " }\n",
              " role: \"model\"]"
            ]
          },
          "metadata": {},
          "execution_count": 14
        }
      ]
    },
    {
      "cell_type": "code",
      "source": [
        "#Melhorando a visualização\n",
        "#Código disponível em https://ai.google.dev/tutorials/python_quickstart#import_packages\n",
        "import textwrap\n",
        "from IPython.display import display\n",
        "from IPython.display import Markdown\n",
        "\n",
        "def to_markdown(text):\n",
        "  text = text.replace('*','  *')\n",
        "  return Markdown(textwrap.indent(text, '> ', predicate=lambda _: True))\n",
        "\n",
        "#Imprimindo o histórico\n",
        "for message in chat.history:\n",
        "  display(to_markdown(f\"**{message.role}**: {message.parts[0].text}\"))\n",
        "  print('-----------------------------------------------')"
      ],
      "metadata": {
        "colab": {
          "base_uri": "https://localhost:8080/",
          "height": 1000
        },
        "id": "5WZPlj9N-uS5",
        "outputId": "a6eb4e24-87a2-4af0-b0ea-128b245c996e"
      },
      "execution_count": null,
      "outputs": [
        {
          "output_type": "display_data",
          "data": {
            "text/plain": [
              "<IPython.core.display.Markdown object>"
            ],
            "text/markdown": ">   *  *user  *  *: qual a capital do japão?"
          },
          "metadata": {}
        },
        {
          "output_type": "stream",
          "name": "stdout",
          "text": [
            "-----------------------------------------------\n"
          ]
        },
        {
          "output_type": "display_data",
          "data": {
            "text/plain": [
              "<IPython.core.display.Markdown object>"
            ],
            "text/markdown": ">   *  *model  *  *: Tóquio"
          },
          "metadata": {}
        },
        {
          "output_type": "stream",
          "name": "stdout",
          "text": [
            "-----------------------------------------------\n"
          ]
        },
        {
          "output_type": "display_data",
          "data": {
            "text/plain": [
              "<IPython.core.display.Markdown object>"
            ],
            "text/markdown": ">   *  *user  *  *: qual o melhor anime japones?"
          },
          "metadata": {}
        },
        {
          "output_type": "stream",
          "name": "stdout",
          "text": [
            "-----------------------------------------------\n"
          ]
        },
        {
          "output_type": "display_data",
          "data": {
            "text/plain": [
              "<IPython.core.display.Markdown object>"
            ],
            "text/markdown": ">   *  *model  *  *: A escolha do melhor anime japonês é subjetiva e depende das preferências pessoais. No entanto, alguns dos animes mais populares e aclamados pela crítica incluem:\n> \n>   *   *  *One Piece  *  *\n>   *   *  *Naruto  *  *\n>   *   *  *Dragon Ball Z  *  *\n>   *   *  *Fullmetal Alchemist: Brotherhood  *  *\n>   *   *  *Attack on Titan  *  *\n>   *   *  *Death Note  *  *\n>   *   *  *Cowboy Bebop  *  *\n>   *   *  *Spirited Away  *  *\n>   *   *  *Neon Genesis Evangelion  *  *\n>   *   *  *My Hero Academia  *  *\n>   *   *  *Demon Slayer: Kimetsu no Yaiba  *  *\n>   *   *  *Jujutsu Kaisen  *  *\n>   *   *  *Haikyuu!!  *  *\n>   *   *  *Hunter x Hunter  *  *"
          },
          "metadata": {}
        },
        {
          "output_type": "stream",
          "name": "stdout",
          "text": [
            "-----------------------------------------------\n"
          ]
        },
        {
          "output_type": "display_data",
          "data": {
            "text/plain": [
              "<IPython.core.display.Markdown object>"
            ],
            "text/markdown": ">   *  *user  *  *: Goku é personagem de qual anime"
          },
          "metadata": {}
        },
        {
          "output_type": "stream",
          "name": "stdout",
          "text": [
            "-----------------------------------------------\n"
          ]
        },
        {
          "output_type": "display_data",
          "data": {
            "text/plain": [
              "<IPython.core.display.Markdown object>"
            ],
            "text/markdown": ">   *  *model  *  *: Dragon Ball\n> \n> Goku é o principal protagonista da franquia de anime e mangá Dragon Ball, criada por Akira Toriyama. Ele é um guerreiro Saiyajin que foi enviado à Terra quando criança para conquistá-la, mas acabou se tornando um dos seus maiores defensores. Goku é conhecido por sua força, coragem e determinação, e é frequentemente considerado um dos personagens de anime mais icônicos de todos os tempos."
          },
          "metadata": {}
        },
        {
          "output_type": "stream",
          "name": "stdout",
          "text": [
            "-----------------------------------------------\n"
          ]
        },
        {
          "output_type": "display_data",
          "data": {
            "text/plain": [
              "<IPython.core.display.Markdown object>"
            ],
            "text/markdown": ">   *  *user  *  *: luff é personagem de qaul anime"
          },
          "metadata": {}
        },
        {
          "output_type": "stream",
          "name": "stdout",
          "text": [
            "-----------------------------------------------\n"
          ]
        },
        {
          "output_type": "display_data",
          "data": {
            "text/plain": [
              "<IPython.core.display.Markdown object>"
            ],
            "text/markdown": ">   *  *model  *  *: One Piece\n> \n> Luffy é o principal protagonista da série de anime e mangá One Piece, criada por Eiichiro Oda. Ele é um jovem pirata que sonha em se tornar o Rei dos Piratas. Luffy é conhecido por sua personalidade alegre e otimista, bem como por sua força e determinação. Ele é o capitão dos Piratas do Chapéu de Palha, uma tripulação de piratas que viaja pelo Grand Line em busca do tesouro lendário conhecido como One Piece."
          },
          "metadata": {}
        },
        {
          "output_type": "stream",
          "name": "stdout",
          "text": [
            "-----------------------------------------------\n"
          ]
        },
        {
          "output_type": "display_data",
          "data": {
            "text/plain": [
              "<IPython.core.display.Markdown object>"
            ],
            "text/markdown": ">   *  *user  *  *: yugioh é um anime japones?"
          },
          "metadata": {}
        },
        {
          "output_type": "stream",
          "name": "stdout",
          "text": [
            "-----------------------------------------------\n"
          ]
        },
        {
          "output_type": "display_data",
          "data": {
            "text/plain": [
              "<IPython.core.display.Markdown object>"
            ],
            "text/markdown": ">   *  *model  *  *: Sim, Yu-Gi-Oh! é um anime japonês.\n> \n> A franquia Yu-Gi-Oh! foi criada por Kazuki Takahashi e começou como uma série de mangá publicada na revista Weekly Shōnen Jump em 1996. O anime foi adaptado do mangá e começou a ser exibido no Japão em 1998.\n> \n> Yu-Gi-Oh! é uma série de anime popular que gira em torno do jogo de cartas colecionáveis ​​de mesmo nome. O protagonista da série, Yugi Mutou, é um jovem que resolve um antigo artefato egípcio conhecido como Enigma do Milênio. Isso desperta um espírito antigo dentro dele, que o ajuda a se tornar um Duelista de Monstros, um jogador do jogo de cartas colecionáveis.\n> \n> Yu-Gi-Oh! tem sido uma franquia de sucesso no Japão e em todo o mundo, gerando vários animes, filmes, videogames e produtos."
          },
          "metadata": {}
        },
        {
          "output_type": "stream",
          "name": "stdout",
          "text": [
            "-----------------------------------------------\n"
          ]
        }
      ]
    }
  ]
}